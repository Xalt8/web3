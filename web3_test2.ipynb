{
 "metadata": {
  "language_info": {
   "codemirror_mode": {
    "name": "ipython",
    "version": 3
   },
   "file_extension": ".py",
   "mimetype": "text/x-python",
   "name": "python",
   "nbconvert_exporter": "python",
   "pygments_lexer": "ipython3",
   "version": "3.7.4"
  },
  "orig_nbformat": 2,
  "kernelspec": {
   "name": "pythonjvsc74a57bd0a8a8472d819571f231b1e61129d9fd050d60f83e02fa7a8b20574ed15fadfb3e",
   "display_name": "Python 3.7.4  ('env': venv)"
  },
  "metadata": {
   "interpreter": {
    "hash": "a8a8472d819571f231b1e61129d9fd050d60f83e02fa7a8b20574ed15fadfb3e"
   }
  }
 },
 "nbformat": 4,
 "nbformat_minor": 2,
 "cells": [
  {
   "cell_type": "code",
   "execution_count": 4,
   "metadata": {},
   "outputs": [],
   "source": [
    "from web3 import Web3"
   ]
  },
  {
   "cell_type": "code",
   "execution_count": 5,
   "metadata": {},
   "outputs": [],
   "source": [
    "ganache_url = \"http://127.0.0.1:7545\""
   ]
  },
  {
   "cell_type": "code",
   "execution_count": 6,
   "metadata": {},
   "outputs": [
    {
     "output_type": "execute_result",
     "data": {
      "text/plain": [
       "True"
      ]
     },
     "metadata": {},
     "execution_count": 6
    }
   ],
   "source": [
    "web3 = Web3(Web3.HTTPProvider(ganache_url))\n",
    "web3.isConnected()"
   ]
  },
  {
   "cell_type": "code",
   "execution_count": 9,
   "metadata": {},
   "outputs": [],
   "source": [
    "sender_account = \"0xb6fAf3c015972A3e852F9bB202a278a368fDa9E9\"\n",
    "sender_private_key = \"52e053b1dc6aeba14dc2c526a6d8305a4bb1e975119aed558501363e38c44a76\"\n",
    "\n",
    "receiver_account = \"0xEc9299faa71e341a0B3c755f8F153cef9CaE5419\""
   ]
  },
  {
   "source": [
    "## Get the nonce"
   ],
   "cell_type": "markdown",
   "metadata": {}
  },
  {
   "cell_type": "code",
   "execution_count": 17,
   "metadata": {},
   "outputs": [],
   "source": [
    "# Nonce prevents you from sending the same trasaction twice \n",
    "nonce = web3.eth.getTransactionCount(sender_account)"
   ]
  },
  {
   "source": [
    "## Build the transaction"
   ],
   "cell_type": "markdown",
   "metadata": {}
  },
  {
   "cell_type": "code",
   "execution_count": 19,
   "metadata": {},
   "outputs": [],
   "source": [
    "# gas -> units of gas for the trasaction\n",
    "\n",
    "tx = {\n",
    "    'nonce': nonce,\n",
    "    'to': receiver_account,\n",
    "    'value': web3.toWei(1, 'ether'),\n",
    "    'gas': 2000000,\n",
    "    'gasPrice': web3.toWei(50, 'gwei')\n",
    "}"
   ]
  },
  {
   "source": [
    "## Sign the transaction"
   ],
   "cell_type": "markdown",
   "metadata": {}
  },
  {
   "cell_type": "code",
   "execution_count": 20,
   "metadata": {},
   "outputs": [],
   "source": [
    "signed_tx = web3.eth.account.signTransaction(tx, sender_private_key)"
   ]
  },
  {
   "source": [
    "## Send the transaction"
   ],
   "cell_type": "markdown",
   "metadata": {}
  },
  {
   "cell_type": "code",
   "execution_count": 21,
   "metadata": {},
   "outputs": [
    {
     "output_type": "execute_result",
     "data": {
      "text/plain": [
       "HexBytes('0xb46817e3c56b7aa1e8d905ae88dd71e9bb145bf9f64acdafef9040f3db7e4eaf')"
      ]
     },
     "metadata": {},
     "execution_count": 21
    }
   ],
   "source": [
    "tx_hash = web3.eth.sendRawTransaction(signed_tx.rawTransaction)\n",
    "tx_hash"
   ]
  },
  {
   "cell_type": "code",
   "execution_count": 22,
   "metadata": {},
   "outputs": [
    {
     "output_type": "execute_result",
     "data": {
      "text/plain": [
       "'0xb46817e3c56b7aa1e8d905ae88dd71e9bb145bf9f64acdafef9040f3db7e4eaf'"
      ]
     },
     "metadata": {},
     "execution_count": 22
    }
   ],
   "source": [
    "hex_hash = web3.toHex(tx_hash)\n",
    "hex_hash"
   ]
  },
  {
   "cell_type": "code",
   "execution_count": null,
   "metadata": {},
   "outputs": [],
   "source": [
    "\"TX 0xb46817e3c56b7aa1e8d905ae88dd71e9bb145bf9f64acdafef9040f3db7e4eaf\" # Copied from Ganache"
   ]
  },
  {
   "source": [
    "## Get transaction hash"
   ],
   "cell_type": "markdown",
   "metadata": {}
  }
 ]
}