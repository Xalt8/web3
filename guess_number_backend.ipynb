{
 "cells": [
  {
   "cell_type": "code",
   "execution_count": 32,
   "metadata": {},
   "outputs": [],
   "source": [
    "from web3 import Web3\n",
    "import json\n",
    "import anvil.server\n",
    "import time"
   ]
  },
  {
   "cell_type": "code",
   "execution_count": 33,
   "metadata": {},
   "outputs": [],
   "source": [
    "# Source: \n",
    "# https://www.dappuniversity.com/articles/web3-py-intro\n",
    "# https://www.youtube.com/watch?v=8-GeDWpUeVI&list=PLFPZ8ai7J-iQMTChqif-XVP8DYABA4rx1&index=12&ab_channel=MoralisWeb3"
   ]
  },
  {
   "cell_type": "code",
   "execution_count": 34,
   "metadata": {},
   "outputs": [],
   "source": [
    "# Set the node provider to Ganache\n",
    "NODE_PROVIDER = 'http://127.0.0.1:7545'\n",
    "web3_connection = Web3(Web3.HTTPProvider(NODE_PROVIDER))"
   ]
  },
  {
   "cell_type": "code",
   "execution_count": 35,
   "metadata": {},
   "outputs": [
    {
     "data": {
      "text/plain": [
       "'Connected'"
      ]
     },
     "execution_count": 35,
     "metadata": {},
     "output_type": "execute_result"
    }
   ],
   "source": [
    "\"Connected\" if web3_connection.isConnected() else \"Not connected\""
   ]
  },
  {
   "cell_type": "code",
   "execution_count": 36,
   "metadata": {},
   "outputs": [],
   "source": [
    "def get_abi_byteCode(build_path: str) -> tuple:\n",
    "    ''' Takes the path to json build file and \n",
    "        returns the ABI & byte code'''\n",
    "    try:\n",
    "        with open(build_path) as j:\n",
    "            buildJson = json.load(j)\n",
    "    except FileNotFoundError as e:\n",
    "        print('Could not find file - check path!')\n",
    "    \n",
    "    return buildJson['abi'], buildJson['bytecode']"
   ]
  },
  {
   "cell_type": "code",
   "execution_count": 37,
   "metadata": {},
   "outputs": [],
   "source": [
    "abi, byte_code = get_abi_byteCode('Vyper_01/build/contracts/GuessNumberApp.json')"
   ]
  },
  {
   "cell_type": "code",
   "execution_count": 38,
   "metadata": {},
   "outputs": [],
   "source": [
    "# Set the first account in Ganache to be the default account\n",
    "web3_connection.eth.defaultAccount = web3_connection.eth.accounts[0]"
   ]
  },
  {
   "cell_type": "code",
   "execution_count": 39,
   "metadata": {},
   "outputs": [],
   "source": [
    "# Instantiate a contract \n",
    "contract_app = web3_connection.eth.contract(abi=abi, bytecode=byte_code)"
   ]
  },
  {
   "cell_type": "code",
   "execution_count": 40,
   "metadata": {},
   "outputs": [],
   "source": [
    "# Submit the transaction that deploys the contract\n",
    "transaction= {'from':web3_connection.eth.defaultAccount, 'value':web3_connection.toWei(10, 'ether')}\n",
    "tx_hash = contract_app.constructor(8).transact(transaction)"
   ]
  },
  {
   "cell_type": "code",
   "execution_count": 41,
   "metadata": {},
   "outputs": [],
   "source": [
    "# Wait for the transaction to be mined, and get the transaction receipt\n",
    "tx_receipt = web3_connection.eth.waitForTransactionReceipt(tx_hash) "
   ]
  },
  {
   "cell_type": "code",
   "execution_count": 42,
   "metadata": {},
   "outputs": [],
   "source": [
    "# Create the contract instance with the newly-deployed address\n",
    "contract = web3_connection.eth.contract(address=tx_receipt.contractAddress, abi=abi)"
   ]
  },
  {
   "cell_type": "code",
   "execution_count": 46,
   "metadata": {},
   "outputs": [],
   "source": [
    "# Setup the listner\n",
    "event_of_interest = contract.events.Player_registered()"
   ]
  },
  {
   "cell_type": "code",
   "execution_count": 47,
   "metadata": {},
   "outputs": [
    {
     "data": {
      "text/plain": [
       "<web3._utils.datatypes.Player_registered at 0x19ba7c77970>"
      ]
     },
     "execution_count": 47,
     "metadata": {},
     "output_type": "execute_result"
    }
   ],
   "source": []
  },
  {
   "cell_type": "code",
   "execution_count": 44,
   "metadata": {},
   "outputs": [],
   "source": []
  },
  {
   "cell_type": "code",
   "execution_count": 51,
   "metadata": {},
   "outputs": [],
   "source": [
    "# listen(tx_receipt.contractAddress)"
   ]
  },
  {
   "cell_type": "markdown",
   "metadata": {},
   "source": [
    "Connect the anvil server using the uplink key"
   ]
  },
  {
   "cell_type": "code",
   "execution_count": 52,
   "metadata": {},
   "outputs": [],
   "source": [
    "anvil.server.connect('server_QU6WQ53GJBCZ7MY7GOGX7YRZ-TU5EUJ7KKAH53HP3')"
   ]
  },
  {
   "cell_type": "code",
   "execution_count": 53,
   "metadata": {},
   "outputs": [],
   "source": [
    "@anvil.server.callable\n",
    "def get_contract_address():\n",
    "    global tx_receipt\n",
    "    return tx_receipt.contractAddress"
   ]
  },
  {
   "cell_type": "code",
   "execution_count": 54,
   "metadata": {},
   "outputs": [
    {
     "name": "stderr",
     "output_type": "stream",
     "text": [
      "Exception in thread Thread-4 (heartbeat_until_reopened):\n",
      "Traceback (most recent call last):\n",
      "  File \"c:\\Users\\singh\\OneDrive\\Blockchain\\Web3\\env\\lib\\site-packages\\anvil\\server.py\", line 401, in call\n",
      "    return _do_call(args, kwargs, fn_name=fn_name)\n",
      "  File \"c:\\Users\\singh\\OneDrive\\Blockchain\\Web3\\env\\lib\\site-packages\\anvil\\server.py\", line 393, in _do_call\n",
      "    return _threaded_server.do_call(args, kwargs, fn_name=fn_name, live_object=live_object)\n",
      "  File \"c:\\Users\\singh\\OneDrive\\Blockchain\\Web3\\env\\lib\\site-packages\\anvil\\_threaded_server.py\", line 429, in do_call\n",
      "    raise error_from_server\n",
      "anvil._server.AnvilWrappedError: 'Connection to Anvil Uplink server lost'\n",
      "\n",
      "During handling of the above exception, another exception occurred:\n",
      "\n",
      "Traceback (most recent call last):\n",
      "  File \"C:\\Python310\\lib\\threading.py\", line 1009, in _bootstrap_inner\n",
      "    self.run()\n",
      "  File \"C:\\Python310\\lib\\threading.py\", line 946, in run\n",
      "    self._target(*self._args, **self._kwargs)\n",
      "  File \"c:\\Users\\singh\\OneDrive\\Blockchain\\Web3\\env\\lib\\site-packages\\anvil\\server.py\", line 204, in heartbeat_until_reopened\n",
      "    call(\"anvil.private.echo\", \"keep-alive\")\n",
      "  File \"c:\\Users\\singh\\OneDrive\\Blockchain\\Web3\\env\\lib\\site-packages\\anvil\\server.py\", line 404, in call\n",
      "    raise _server._deserialise_exception(e.error_obj)\n",
      "anvil._server.AnvilWrappedError: 'Connection to Anvil Uplink server lost'\n"
     ]
    },
    {
     "name": "stdout",
     "output_type": "stream",
     "text": [
      "Anvil websocket closed (code 1006, reason=Going away)\n",
      "Reconnecting Anvil Uplink...\n",
      "Connecting to wss://anvil.works/uplink\n",
      "Anvil websocket open\n",
      "Connected to \"Default Environment\" as SERVER\n"
     ]
    },
    {
     "name": "stderr",
     "output_type": "stream",
     "text": [
      "Exception in thread Thread-7 (heartbeat_until_reopened):\n",
      "Traceback (most recent call last):\n",
      "  File \"c:\\Users\\singh\\OneDrive\\Blockchain\\Web3\\env\\lib\\site-packages\\anvil\\server.py\", line 401, in call\n",
      "    return _do_call(args, kwargs, fn_name=fn_name)\n",
      "  File \"c:\\Users\\singh\\OneDrive\\Blockchain\\Web3\\env\\lib\\site-packages\\anvil\\server.py\", line 393, in _do_call\n",
      "    return _threaded_server.do_call(args, kwargs, fn_name=fn_name, live_object=live_object)\n",
      "  File \"c:\\Users\\singh\\OneDrive\\Blockchain\\Web3\\env\\lib\\site-packages\\anvil\\_threaded_server.py\", line 429, in do_call\n",
      "    raise error_from_server\n",
      "anvil._server.AnvilWrappedError: 'Connection to Anvil Uplink server lost'\n",
      "\n",
      "During handling of the above exception, another exception occurred:\n",
      "\n",
      "Traceback (most recent call last):\n",
      "  File \"C:\\Python310\\lib\\threading.py\", line 1009, in _bootstrap_inner\n",
      "    self.run()\n",
      "  File \"C:\\Python310\\lib\\threading.py\", line 946, in run\n",
      "    self._target(*self._args, **self._kwargs)\n",
      "  File \"c:\\Users\\singh\\OneDrive\\Blockchain\\Web3\\env\\lib\\site-packages\\anvil\\server.py\", line 204, in heartbeat_until_reopened\n",
      "    call(\"anvil.private.echo\", \"keep-alive\")\n",
      "  File \"c:\\Users\\singh\\OneDrive\\Blockchain\\Web3\\env\\lib\\site-packages\\anvil\\server.py\", line 404, in call\n",
      "    raise _server._deserialise_exception(e.error_obj)\n",
      "anvil._server.AnvilWrappedError: 'Connection to Anvil Uplink server lost'\n"
     ]
    },
    {
     "name": "stdout",
     "output_type": "stream",
     "text": [
      "Anvil websocket closed (code 1006, reason=Going away)\n",
      "Reconnecting Anvil Uplink...\n",
      "Connecting to wss://anvil.works/uplink\n",
      "Anvil websocket open\n",
      "Connected to \"Default Environment\" as SERVER\n",
      "Anvil websocket closed (code 1006, reason=Going away)\n",
      "Reconnecting Anvil Uplink...\n",
      "Connecting to wss://anvil.works/uplink\n",
      "Anvil websocket open\n",
      "Connected to \"Default Environment\" as SERVER\n",
      "Anvil websocket closed (code 1006, reason=Going away)\n",
      "Reconnecting Anvil Uplink...\n",
      "Connecting to wss://anvil.works/uplink\n",
      "Anvil websocket open\n",
      "Connected to \"Default Environment\" as SERVER\n",
      "Anvil websocket closed (code 1006, reason=Going away)\n",
      "Reconnecting Anvil Uplink...\n",
      "Connecting to wss://anvil.works/uplink\n",
      "Anvil websocket open\n",
      "Connected to \"Default Environment\" as SERVER\n",
      "Anvil websocket closed (code 1006, reason=Going away)\n",
      "Reconnecting Anvil Uplink...\n",
      "Connecting to wss://anvil.works/uplink\n",
      "Anvil websocket open\n",
      "Connected to \"Default Environment\" as SERVER\n",
      "Anvil websocket closed (code 1006, reason=Going away)\n",
      "Reconnecting Anvil Uplink...\n",
      "Connecting to wss://anvil.works/uplink\n",
      "Reconnection failed. Waiting 10 seconds, then retrying.\n",
      "Reconnecting Anvil Uplink...\n",
      "Connecting to wss://anvil.works/uplink\n",
      "Reconnection failed. Waiting 10 seconds, then retrying.\n",
      "Reconnecting Anvil Uplink...\n",
      "Connecting to wss://anvil.works/uplink\n",
      "Anvil websocket open\n",
      "Connected to \"Default Environment\" as SERVER\n",
      "Anvil websocket closed (code 1006, reason=Going away)\n",
      "Reconnecting Anvil Uplink...\n",
      "Connecting to wss://anvil.works/uplink\n",
      "Anvil websocket open\n",
      "Connected to \"Default Environment\" as SERVER\n"
     ]
    }
   ],
   "source": [
    "@anvil.server.callable\n",
    "def get_game_balance() -> int:\n",
    "    global contract\n",
    "    return contract.functions.game_balance().call()"
   ]
  },
  {
   "cell_type": "code",
   "execution_count": null,
   "metadata": {},
   "outputs": [],
   "source": []
  }
 ],
 "metadata": {
  "interpreter": {
   "hash": "a8a8472d819571f231b1e61129d9fd050d60f83e02fa7a8b20574ed15fadfb3e"
  },
  "kernelspec": {
   "display_name": "Python 3.10.4 ('env': venv)",
   "language": "python",
   "name": "python3"
  },
  "language_info": {
   "codemirror_mode": {
    "name": "ipython",
    "version": 3
   },
   "file_extension": ".py",
   "mimetype": "text/x-python",
   "name": "python",
   "nbconvert_exporter": "python",
   "pygments_lexer": "ipython3",
   "version": "3.10.4"
  },
  "orig_nbformat": 4
 },
 "nbformat": 4,
 "nbformat_minor": 2
}
